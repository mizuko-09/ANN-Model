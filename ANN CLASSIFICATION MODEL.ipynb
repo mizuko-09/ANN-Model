{
 "cells": [
  {
   "cell_type": "code",
   "execution_count": 1,
   "id": "e00e8fc4",
   "metadata": {},
   "outputs": [
    {
     "name": "stdout",
     "output_type": "stream",
     "text": [
      "Collecting tensorflow\n",
      "  Using cached tensorflow-2.12.0-cp310-cp310-win_amd64.whl (1.9 kB)\n",
      "Collecting tensorflow-intel==2.12.0\n",
      "  Using cached tensorflow_intel-2.12.0-cp310-cp310-win_amd64.whl (272.8 MB)\n",
      "Requirement already satisfied: six>=1.12.0 in c:\\users\\navyagoyal\\anaconda3\\lib\\site-packages (from tensorflow-intel==2.12.0->tensorflow) (1.16.0)\n",
      "Requirement already satisfied: protobuf!=4.21.0,!=4.21.1,!=4.21.2,!=4.21.3,!=4.21.4,!=4.21.5,<5.0.0dev,>=3.20.3 in c:\\users\\navyagoyal\\anaconda3\\lib\\site-packages (from tensorflow-intel==2.12.0->tensorflow) (4.23.2)\n",
      "Requirement already satisfied: numpy<1.24,>=1.22 in c:\\users\\navyagoyal\\anaconda3\\lib\\site-packages (from tensorflow-intel==2.12.0->tensorflow) (1.23.5)\n",
      "Requirement already satisfied: libclang>=13.0.0 in c:\\users\\navyagoyal\\anaconda3\\lib\\site-packages (from tensorflow-intel==2.12.0->tensorflow) (16.0.0)\n",
      "Requirement already satisfied: tensorflow-io-gcs-filesystem>=0.23.1 in c:\\users\\navyagoyal\\anaconda3\\lib\\site-packages (from tensorflow-intel==2.12.0->tensorflow) (0.31.0)\n",
      "Requirement already satisfied: termcolor>=1.1.0 in c:\\users\\navyagoyal\\anaconda3\\lib\\site-packages (from tensorflow-intel==2.12.0->tensorflow) (2.3.0)\n",
      "Requirement already satisfied: typing-extensions>=3.6.6 in c:\\users\\navyagoyal\\anaconda3\\lib\\site-packages (from tensorflow-intel==2.12.0->tensorflow) (4.4.0)\n",
      "Requirement already satisfied: astunparse>=1.6.0 in c:\\users\\navyagoyal\\anaconda3\\lib\\site-packages (from tensorflow-intel==2.12.0->tensorflow) (1.6.3)\n",
      "Requirement already satisfied: keras<2.13,>=2.12.0 in c:\\users\\navyagoyal\\anaconda3\\lib\\site-packages (from tensorflow-intel==2.12.0->tensorflow) (2.12.0)\n",
      "Requirement already satisfied: h5py>=2.9.0 in c:\\users\\navyagoyal\\anaconda3\\lib\\site-packages (from tensorflow-intel==2.12.0->tensorflow) (3.7.0)\n",
      "Requirement already satisfied: setuptools in c:\\users\\navyagoyal\\anaconda3\\lib\\site-packages (from tensorflow-intel==2.12.0->tensorflow) (65.6.3)\n",
      "Requirement already satisfied: flatbuffers>=2.0 in c:\\users\\navyagoyal\\anaconda3\\lib\\site-packages (from tensorflow-intel==2.12.0->tensorflow) (23.5.26)\n",
      "Requirement already satisfied: absl-py>=1.0.0 in c:\\users\\navyagoyal\\anaconda3\\lib\\site-packages (from tensorflow-intel==2.12.0->tensorflow) (1.4.0)\n",
      "Requirement already satisfied: opt-einsum>=2.3.2 in c:\\users\\navyagoyal\\anaconda3\\lib\\site-packages (from tensorflow-intel==2.12.0->tensorflow) (3.3.0)\n",
      "Requirement already satisfied: jax>=0.3.15 in c:\\users\\navyagoyal\\anaconda3\\lib\\site-packages (from tensorflow-intel==2.12.0->tensorflow) (0.4.11)\n",
      "Requirement already satisfied: tensorflow-estimator<2.13,>=2.12.0 in c:\\users\\navyagoyal\\anaconda3\\lib\\site-packages (from tensorflow-intel==2.12.0->tensorflow) (2.12.0)\n",
      "Requirement already satisfied: packaging in c:\\users\\navyagoyal\\anaconda3\\lib\\site-packages (from tensorflow-intel==2.12.0->tensorflow) (22.0)\n",
      "Requirement already satisfied: wrapt<1.15,>=1.11.0 in c:\\users\\navyagoyal\\anaconda3\\lib\\site-packages (from tensorflow-intel==2.12.0->tensorflow) (1.14.1)\n",
      "Requirement already satisfied: grpcio<2.0,>=1.24.3 in c:\\users\\navyagoyal\\anaconda3\\lib\\site-packages (from tensorflow-intel==2.12.0->tensorflow) (1.54.2)\n",
      "Requirement already satisfied: tensorboard<2.13,>=2.12 in c:\\users\\navyagoyal\\anaconda3\\lib\\site-packages (from tensorflow-intel==2.12.0->tensorflow) (2.12.3)\n",
      "Requirement already satisfied: google-pasta>=0.1.1 in c:\\users\\navyagoyal\\anaconda3\\lib\\site-packages (from tensorflow-intel==2.12.0->tensorflow) (0.2.0)\n",
      "Requirement already satisfied: gast<=0.4.0,>=0.2.1 in c:\\users\\navyagoyal\\anaconda3\\lib\\site-packages (from tensorflow-intel==2.12.0->tensorflow) (0.4.0)\n",
      "Requirement already satisfied: wheel<1.0,>=0.23.0 in c:\\users\\navyagoyal\\anaconda3\\lib\\site-packages (from astunparse>=1.6.0->tensorflow-intel==2.12.0->tensorflow) (0.38.4)\n",
      "Requirement already satisfied: scipy>=1.7 in c:\\users\\navyagoyal\\anaconda3\\lib\\site-packages (from jax>=0.3.15->tensorflow-intel==2.12.0->tensorflow) (1.10.0)\n",
      "Requirement already satisfied: ml-dtypes>=0.1.0 in c:\\users\\navyagoyal\\anaconda3\\lib\\site-packages (from jax>=0.3.15->tensorflow-intel==2.12.0->tensorflow) (0.1.0)\n",
      "Requirement already satisfied: google-auth<3,>=1.6.3 in c:\\users\\navyagoyal\\anaconda3\\lib\\site-packages (from tensorboard<2.13,>=2.12->tensorflow-intel==2.12.0->tensorflow) (2.19.1)\n",
      "Requirement already satisfied: werkzeug>=1.0.1 in c:\\users\\navyagoyal\\anaconda3\\lib\\site-packages (from tensorboard<2.13,>=2.12->tensorflow-intel==2.12.0->tensorflow) (2.2.2)\n",
      "Requirement already satisfied: requests<3,>=2.21.0 in c:\\users\\navyagoyal\\anaconda3\\lib\\site-packages (from tensorboard<2.13,>=2.12->tensorflow-intel==2.12.0->tensorflow) (2.28.1)\n",
      "Requirement already satisfied: tensorboard-data-server<0.8.0,>=0.7.0 in c:\\users\\navyagoyal\\anaconda3\\lib\\site-packages (from tensorboard<2.13,>=2.12->tensorflow-intel==2.12.0->tensorflow) (0.7.0)\n",
      "Requirement already satisfied: markdown>=2.6.8 in c:\\users\\navyagoyal\\anaconda3\\lib\\site-packages (from tensorboard<2.13,>=2.12->tensorflow-intel==2.12.0->tensorflow) (3.4.1)\n",
      "Requirement already satisfied: google-auth-oauthlib<1.1,>=0.5 in c:\\users\\navyagoyal\\anaconda3\\lib\\site-packages (from tensorboard<2.13,>=2.12->tensorflow-intel==2.12.0->tensorflow) (1.0.0)\n",
      "Requirement already satisfied: pyasn1-modules>=0.2.1 in c:\\users\\navyagoyal\\anaconda3\\lib\\site-packages (from google-auth<3,>=1.6.3->tensorboard<2.13,>=2.12->tensorflow-intel==2.12.0->tensorflow) (0.2.8)\n",
      "Requirement already satisfied: cachetools<6.0,>=2.0.0 in c:\\users\\navyagoyal\\anaconda3\\lib\\site-packages (from google-auth<3,>=1.6.3->tensorboard<2.13,>=2.12->tensorflow-intel==2.12.0->tensorflow) (5.3.1)\n",
      "Requirement already satisfied: urllib3<2.0 in c:\\users\\navyagoyal\\anaconda3\\lib\\site-packages (from google-auth<3,>=1.6.3->tensorboard<2.13,>=2.12->tensorflow-intel==2.12.0->tensorflow) (1.26.14)\n",
      "Requirement already satisfied: rsa<5,>=3.1.4 in c:\\users\\navyagoyal\\anaconda3\\lib\\site-packages (from google-auth<3,>=1.6.3->tensorboard<2.13,>=2.12->tensorflow-intel==2.12.0->tensorflow) (4.9)\n",
      "Requirement already satisfied: requests-oauthlib>=0.7.0 in c:\\users\\navyagoyal\\anaconda3\\lib\\site-packages (from google-auth-oauthlib<1.1,>=0.5->tensorboard<2.13,>=2.12->tensorflow-intel==2.12.0->tensorflow) (1.3.1)\n",
      "Requirement already satisfied: charset-normalizer<3,>=2 in c:\\users\\navyagoyal\\anaconda3\\lib\\site-packages (from requests<3,>=2.21.0->tensorboard<2.13,>=2.12->tensorflow-intel==2.12.0->tensorflow) (2.0.4)\n",
      "Requirement already satisfied: certifi>=2017.4.17 in c:\\users\\navyagoyal\\anaconda3\\lib\\site-packages (from requests<3,>=2.21.0->tensorboard<2.13,>=2.12->tensorflow-intel==2.12.0->tensorflow) (2022.12.7)\n",
      "Requirement already satisfied: idna<4,>=2.5 in c:\\users\\navyagoyal\\anaconda3\\lib\\site-packages (from requests<3,>=2.21.0->tensorboard<2.13,>=2.12->tensorflow-intel==2.12.0->tensorflow) (3.4)\n",
      "Requirement already satisfied: MarkupSafe>=2.1.1 in c:\\users\\navyagoyal\\anaconda3\\lib\\site-packages (from werkzeug>=1.0.1->tensorboard<2.13,>=2.12->tensorflow-intel==2.12.0->tensorflow) (2.1.1)\n",
      "Requirement already satisfied: pyasn1<0.5.0,>=0.4.6 in c:\\users\\navyagoyal\\anaconda3\\lib\\site-packages (from pyasn1-modules>=0.2.1->google-auth<3,>=1.6.3->tensorboard<2.13,>=2.12->tensorflow-intel==2.12.0->tensorflow) (0.4.8)\n",
      "Requirement already satisfied: oauthlib>=3.0.0 in c:\\users\\navyagoyal\\anaconda3\\lib\\site-packages (from requests-oauthlib>=0.7.0->google-auth-oauthlib<1.1,>=0.5->tensorboard<2.13,>=2.12->tensorflow-intel==2.12.0->tensorflow) (3.2.2)\n",
      "Installing collected packages: tensorflow-intel, tensorflow\n",
      "Successfully installed tensorflow-2.12.0 tensorflow-intel-2.12.0\n"
     ]
    }
   ],
   "source": [
    "!pip install tensorflow"
   ]
  },
  {
   "cell_type": "code",
   "execution_count": 16,
   "id": "e0f5e650",
   "metadata": {},
   "outputs": [],
   "source": [
    "import pandas as pd\n",
    "import numpy as np\n",
    "import matplotlib.pyplot as plt\n",
    "from sklearn.model_selection import train_test_split\n",
    "from sklearn.preprocessing import LabelEncoder\n",
    "from sklearn.preprocessing import StandardScaler\n",
    "from sklearn.metrics import confusion_matrix, classification_report\n",
    "import tensorflow as tf\n",
    "from tensorflow import keras\n",
    "\n",
    "# Load the dataset\n",
    "url = \"https://drive.google.com/file/d/1_Pu1E-CqZcuNRZ3crNeStJzNhwD70Yde/view?usp=share_link\"\n",
    "file_id = url.split(\"/\")[-2]\n",
    "download_url = f\"https://drive.google.com/uc?id={file_id}\"\n",
    "df = pd.read_csv('Churn_Modelling (1).csv')\n",
    "\n",
    "# Drop unnecessary columns\n",
    "df = df.drop([\"RowNumber\",\"CustomerId\", \"Surname\"], axis=1)\n",
    "\n",
    "# Handle null values\n",
    "df = df.dropna()\n",
    "\n",
    "# Handling duplicate records\n",
    "df = df.drop_duplicates()\n",
    "\n",
    "# Perform label encoding for categorical columns\n",
    "label_encoder = LabelEncoder()\n",
    "df[\"Geography\"] = label_encoder.fit_transform(df[\"Geography\"])\n",
    "df[\"Gender\"] = label_encoder.fit_transform(df[\"Gender\"])\n"
   ]
  },
  {
   "cell_type": "code",
   "execution_count": 30,
   "id": "8d50eb25",
   "metadata": {},
   "outputs": [],
   "source": [
    "# Split data into X (independent variables) and y (dependent variable - Exited)\n",
    "x = df.drop(\"Exited\", axis=1)\n",
    "y = df[\"Exited\"]"
   ]
  },
  {
   "cell_type": "code",
   "execution_count": 59,
   "id": "6f3df11a",
   "metadata": {},
   "outputs": [],
   "source": [
    "# Split data into training and test datasets\n",
    "x_train, x_test, y_train, y_test = train_test_split(x, y, test_size=0.25, random_state=42)"
   ]
  },
  {
   "cell_type": "code",
   "execution_count": 60,
   "id": "b84ce6ed",
   "metadata": {},
   "outputs": [],
   "source": [
    "# Feature Scaling\n",
    "scaler = StandardScaler()\n",
    "x_train = scaler.fit_transform(x_train)\n",
    "x_test = scaler.transform(x_test)"
   ]
  },
  {
   "cell_type": "code",
   "execution_count": 61,
   "id": "377f7317",
   "metadata": {},
   "outputs": [],
   "source": [
    "from tensorflow.keras.layers import Dense\n",
    "from tensorflow.keras.models import Sequential"
   ]
  },
  {
   "cell_type": "code",
   "execution_count": 62,
   "id": "e38351cc",
   "metadata": {},
   "outputs": [
    {
     "name": "stdout",
     "output_type": "stream",
     "text": [
      "(7500, 10)\n",
      "(2500, 10)\n",
      "(7500,)\n",
      "(2500,)\n"
     ]
    }
   ],
   "source": [
    "print(x_train.shape)\n",
    "print(x_test.shape)\n",
    "print(y_train.shape)\n",
    "print(y_test.shape)"
   ]
  },
  {
   "cell_type": "code",
   "execution_count": 63,
   "id": "f67d9612",
   "metadata": {},
   "outputs": [
    {
     "name": "stdout",
     "output_type": "stream",
     "text": [
      "Model: \"sequential_5\"\n",
      "_________________________________________________________________\n",
      " Layer (type)                Output Shape              Param #   \n",
      "=================================================================\n",
      " dense_15 (Dense)            (None, 6)                 66        \n",
      "                                                                 \n",
      " dense_16 (Dense)            (None, 6)                 42        \n",
      "                                                                 \n",
      " dense_17 (Dense)            (None, 1)                 7         \n",
      "                                                                 \n",
      "=================================================================\n",
      "Total params: 115\n",
      "Trainable params: 115\n",
      "Non-trainable params: 0\n",
      "_________________________________________________________________\n"
     ]
    }
   ],
   "source": [
    "# Build the ANN model\n",
    "model = Sequential()\n",
    "model.add(Dense(units=6, activation='relu', input_shape=(10,)))\n",
    "model.add(Dense(units=6, activation='relu'))\n",
    "model.add(Dense(units=1, activation='sigmoid'))\n",
    "    \n",
    "model.summary()\n",
    "\n",
    "# Compile the model\n",
    "model.compile(optimizer='adam', loss='binary_crossentropy', metrics=['accuracy'])"
   ]
  },
  {
   "cell_type": "code",
   "execution_count": 64,
   "id": "42f55246",
   "metadata": {},
   "outputs": [
    {
     "name": "stdout",
     "output_type": "stream",
     "text": [
      "Epoch 1/100\n",
      "235/235 [==============================] - 1s 3ms/step - loss: 0.5502 - accuracy: 0.7624 - val_loss: 0.4810 - val_accuracy: 0.8012\n",
      "Epoch 2/100\n",
      "235/235 [==============================] - 1s 3ms/step - loss: 0.4710 - accuracy: 0.7947 - val_loss: 0.4500 - val_accuracy: 0.8012\n",
      "Epoch 3/100\n",
      "235/235 [==============================] - 1s 3ms/step - loss: 0.4514 - accuracy: 0.7971 - val_loss: 0.4384 - val_accuracy: 0.8076\n",
      "Epoch 4/100\n",
      "235/235 [==============================] - 1s 3ms/step - loss: 0.4419 - accuracy: 0.8061 - val_loss: 0.4312 - val_accuracy: 0.8080\n",
      "Epoch 5/100\n",
      "235/235 [==============================] - 1s 3ms/step - loss: 0.4348 - accuracy: 0.8096 - val_loss: 0.4254 - val_accuracy: 0.8132\n",
      "Epoch 6/100\n",
      "235/235 [==============================] - 1s 3ms/step - loss: 0.4293 - accuracy: 0.8148 - val_loss: 0.4204 - val_accuracy: 0.8180\n",
      "Epoch 7/100\n",
      "235/235 [==============================] - 1s 3ms/step - loss: 0.4244 - accuracy: 0.8181 - val_loss: 0.4160 - val_accuracy: 0.8220\n",
      "Epoch 8/100\n",
      "235/235 [==============================] - 1s 3ms/step - loss: 0.4198 - accuracy: 0.8215 - val_loss: 0.4126 - val_accuracy: 0.8248\n",
      "Epoch 9/100\n",
      "235/235 [==============================] - 1s 2ms/step - loss: 0.4163 - accuracy: 0.8233 - val_loss: 0.4097 - val_accuracy: 0.8292\n",
      "Epoch 10/100\n",
      "235/235 [==============================] - 1s 3ms/step - loss: 0.4132 - accuracy: 0.8251 - val_loss: 0.4079 - val_accuracy: 0.8324\n",
      "Epoch 11/100\n",
      "235/235 [==============================] - 1s 2ms/step - loss: 0.4105 - accuracy: 0.8255 - val_loss: 0.4053 - val_accuracy: 0.8320\n",
      "Epoch 12/100\n",
      "235/235 [==============================] - 1s 3ms/step - loss: 0.4085 - accuracy: 0.8256 - val_loss: 0.4042 - val_accuracy: 0.8324\n",
      "Epoch 13/100\n",
      "235/235 [==============================] - 1s 3ms/step - loss: 0.4066 - accuracy: 0.8279 - val_loss: 0.4021 - val_accuracy: 0.8320\n",
      "Epoch 14/100\n",
      "235/235 [==============================] - 1s 3ms/step - loss: 0.4047 - accuracy: 0.8265 - val_loss: 0.3996 - val_accuracy: 0.8344\n",
      "Epoch 15/100\n",
      "235/235 [==============================] - 1s 3ms/step - loss: 0.4030 - accuracy: 0.8273 - val_loss: 0.3975 - val_accuracy: 0.8308\n",
      "Epoch 16/100\n",
      "235/235 [==============================] - 1s 2ms/step - loss: 0.4012 - accuracy: 0.8301 - val_loss: 0.3963 - val_accuracy: 0.8316\n",
      "Epoch 17/100\n",
      "235/235 [==============================] - 1s 3ms/step - loss: 0.3998 - accuracy: 0.8267 - val_loss: 0.3944 - val_accuracy: 0.8324\n",
      "Epoch 18/100\n",
      "235/235 [==============================] - 1s 3ms/step - loss: 0.3981 - accuracy: 0.8296 - val_loss: 0.3930 - val_accuracy: 0.8312\n",
      "Epoch 19/100\n",
      "235/235 [==============================] - 1s 3ms/step - loss: 0.3962 - accuracy: 0.8287 - val_loss: 0.3920 - val_accuracy: 0.8328\n",
      "Epoch 20/100\n",
      "235/235 [==============================] - 1s 3ms/step - loss: 0.3946 - accuracy: 0.8301 - val_loss: 0.3891 - val_accuracy: 0.8344\n",
      "Epoch 21/100\n",
      "235/235 [==============================] - 1s 3ms/step - loss: 0.3926 - accuracy: 0.8340 - val_loss: 0.3864 - val_accuracy: 0.8352\n",
      "Epoch 22/100\n",
      "235/235 [==============================] - 1s 3ms/step - loss: 0.3907 - accuracy: 0.8353 - val_loss: 0.3848 - val_accuracy: 0.8360\n",
      "Epoch 23/100\n",
      "235/235 [==============================] - 1s 3ms/step - loss: 0.3893 - accuracy: 0.8360 - val_loss: 0.3827 - val_accuracy: 0.8360\n",
      "Epoch 24/100\n",
      "235/235 [==============================] - 1s 3ms/step - loss: 0.3868 - accuracy: 0.8369 - val_loss: 0.3802 - val_accuracy: 0.8404\n",
      "Epoch 25/100\n",
      "235/235 [==============================] - 1s 3ms/step - loss: 0.3847 - accuracy: 0.8351 - val_loss: 0.3782 - val_accuracy: 0.8404\n",
      "Epoch 26/100\n",
      "235/235 [==============================] - 1s 3ms/step - loss: 0.3826 - accuracy: 0.8373 - val_loss: 0.3764 - val_accuracy: 0.8420\n",
      "Epoch 27/100\n",
      "235/235 [==============================] - 1s 3ms/step - loss: 0.3810 - accuracy: 0.8408 - val_loss: 0.3768 - val_accuracy: 0.8404\n",
      "Epoch 28/100\n",
      "235/235 [==============================] - 1s 3ms/step - loss: 0.3791 - accuracy: 0.8407 - val_loss: 0.3747 - val_accuracy: 0.8412\n",
      "Epoch 29/100\n",
      "235/235 [==============================] - 1s 3ms/step - loss: 0.3783 - accuracy: 0.8411 - val_loss: 0.3729 - val_accuracy: 0.8428\n",
      "Epoch 30/100\n",
      "235/235 [==============================] - 1s 3ms/step - loss: 0.3770 - accuracy: 0.8408 - val_loss: 0.3724 - val_accuracy: 0.8480\n",
      "Epoch 31/100\n",
      "235/235 [==============================] - 1s 3ms/step - loss: 0.3759 - accuracy: 0.8408 - val_loss: 0.3720 - val_accuracy: 0.8448\n",
      "Epoch 32/100\n",
      "235/235 [==============================] - 1s 3ms/step - loss: 0.3748 - accuracy: 0.8413 - val_loss: 0.3713 - val_accuracy: 0.8512\n",
      "Epoch 33/100\n",
      "235/235 [==============================] - 1s 3ms/step - loss: 0.3738 - accuracy: 0.8435 - val_loss: 0.3684 - val_accuracy: 0.8508\n",
      "Epoch 34/100\n",
      "235/235 [==============================] - 1s 2ms/step - loss: 0.3730 - accuracy: 0.8432 - val_loss: 0.3677 - val_accuracy: 0.8524\n",
      "Epoch 35/100\n",
      "235/235 [==============================] - 1s 2ms/step - loss: 0.3716 - accuracy: 0.8433 - val_loss: 0.3667 - val_accuracy: 0.8512\n",
      "Epoch 36/100\n",
      "235/235 [==============================] - 1s 3ms/step - loss: 0.3710 - accuracy: 0.8463 - val_loss: 0.3699 - val_accuracy: 0.8492\n",
      "Epoch 37/100\n",
      "235/235 [==============================] - 1s 3ms/step - loss: 0.3705 - accuracy: 0.8445 - val_loss: 0.3665 - val_accuracy: 0.8480\n",
      "Epoch 38/100\n",
      "235/235 [==============================] - 1s 3ms/step - loss: 0.3692 - accuracy: 0.8448 - val_loss: 0.3649 - val_accuracy: 0.8524\n",
      "Epoch 39/100\n",
      "235/235 [==============================] - 1s 3ms/step - loss: 0.3686 - accuracy: 0.8467 - val_loss: 0.3640 - val_accuracy: 0.8540\n",
      "Epoch 40/100\n",
      "235/235 [==============================] - 1s 3ms/step - loss: 0.3679 - accuracy: 0.8464 - val_loss: 0.3638 - val_accuracy: 0.8512\n",
      "Epoch 41/100\n",
      "235/235 [==============================] - 1s 2ms/step - loss: 0.3668 - accuracy: 0.8480 - val_loss: 0.3633 - val_accuracy: 0.8520\n",
      "Epoch 42/100\n",
      "235/235 [==============================] - 1s 2ms/step - loss: 0.3662 - accuracy: 0.8485 - val_loss: 0.3623 - val_accuracy: 0.8576\n",
      "Epoch 43/100\n",
      "235/235 [==============================] - 1s 2ms/step - loss: 0.3651 - accuracy: 0.8485 - val_loss: 0.3616 - val_accuracy: 0.8560\n",
      "Epoch 44/100\n",
      "235/235 [==============================] - 1s 3ms/step - loss: 0.3640 - accuracy: 0.8487 - val_loss: 0.3603 - val_accuracy: 0.8568\n",
      "Epoch 45/100\n",
      "235/235 [==============================] - 1s 3ms/step - loss: 0.3636 - accuracy: 0.8504 - val_loss: 0.3599 - val_accuracy: 0.8560\n",
      "Epoch 46/100\n",
      "235/235 [==============================] - 1s 3ms/step - loss: 0.3634 - accuracy: 0.8476 - val_loss: 0.3604 - val_accuracy: 0.8568\n",
      "Epoch 47/100\n",
      "235/235 [==============================] - 1s 3ms/step - loss: 0.3618 - accuracy: 0.8495 - val_loss: 0.3590 - val_accuracy: 0.8592\n",
      "Epoch 48/100\n",
      "235/235 [==============================] - 1s 2ms/step - loss: 0.3610 - accuracy: 0.8501 - val_loss: 0.3576 - val_accuracy: 0.8596\n",
      "Epoch 49/100\n",
      "235/235 [==============================] - 1s 3ms/step - loss: 0.3605 - accuracy: 0.8504 - val_loss: 0.3575 - val_accuracy: 0.8580\n",
      "Epoch 50/100\n",
      "235/235 [==============================] - 0s 2ms/step - loss: 0.3588 - accuracy: 0.8511 - val_loss: 0.3554 - val_accuracy: 0.8572\n",
      "Epoch 51/100\n",
      "235/235 [==============================] - 1s 2ms/step - loss: 0.3585 - accuracy: 0.8535 - val_loss: 0.3558 - val_accuracy: 0.8572\n",
      "Epoch 52/100\n",
      "235/235 [==============================] - 0s 2ms/step - loss: 0.3577 - accuracy: 0.8528 - val_loss: 0.3542 - val_accuracy: 0.8592\n",
      "Epoch 53/100\n",
      "235/235 [==============================] - 1s 2ms/step - loss: 0.3574 - accuracy: 0.8539 - val_loss: 0.3543 - val_accuracy: 0.8588\n",
      "Epoch 54/100\n",
      "235/235 [==============================] - 0s 2ms/step - loss: 0.3567 - accuracy: 0.8524 - val_loss: 0.3537 - val_accuracy: 0.8568\n",
      "Epoch 55/100\n",
      "235/235 [==============================] - 0s 2ms/step - loss: 0.3561 - accuracy: 0.8504 - val_loss: 0.3535 - val_accuracy: 0.8584\n",
      "Epoch 56/100\n",
      "235/235 [==============================] - 0s 2ms/step - loss: 0.3551 - accuracy: 0.8528 - val_loss: 0.3534 - val_accuracy: 0.8612\n",
      "Epoch 57/100\n",
      "235/235 [==============================] - 0s 2ms/step - loss: 0.3546 - accuracy: 0.8545 - val_loss: 0.3513 - val_accuracy: 0.8616\n"
     ]
    },
    {
     "name": "stdout",
     "output_type": "stream",
     "text": [
      "Epoch 58/100\n",
      "235/235 [==============================] - 1s 2ms/step - loss: 0.3542 - accuracy: 0.8517 - val_loss: 0.3532 - val_accuracy: 0.8576\n",
      "Epoch 59/100\n",
      "235/235 [==============================] - 1s 2ms/step - loss: 0.3536 - accuracy: 0.8548 - val_loss: 0.3531 - val_accuracy: 0.8592\n",
      "Epoch 60/100\n",
      "235/235 [==============================] - 1s 2ms/step - loss: 0.3534 - accuracy: 0.8527 - val_loss: 0.3542 - val_accuracy: 0.8572\n",
      "Epoch 61/100\n",
      "235/235 [==============================] - 1s 2ms/step - loss: 0.3525 - accuracy: 0.8539 - val_loss: 0.3506 - val_accuracy: 0.8580\n",
      "Epoch 62/100\n",
      "235/235 [==============================] - 1s 2ms/step - loss: 0.3519 - accuracy: 0.8541 - val_loss: 0.3504 - val_accuracy: 0.8588\n",
      "Epoch 63/100\n",
      "235/235 [==============================] - 1s 3ms/step - loss: 0.3519 - accuracy: 0.8541 - val_loss: 0.3507 - val_accuracy: 0.8580\n",
      "Epoch 64/100\n",
      "235/235 [==============================] - 1s 2ms/step - loss: 0.3513 - accuracy: 0.8540 - val_loss: 0.3490 - val_accuracy: 0.8596\n",
      "Epoch 65/100\n",
      "235/235 [==============================] - 1s 3ms/step - loss: 0.3508 - accuracy: 0.8563 - val_loss: 0.3487 - val_accuracy: 0.8584\n",
      "Epoch 66/100\n",
      "235/235 [==============================] - 1s 2ms/step - loss: 0.3505 - accuracy: 0.8556 - val_loss: 0.3511 - val_accuracy: 0.8652\n",
      "Epoch 67/100\n",
      "235/235 [==============================] - 1s 2ms/step - loss: 0.3506 - accuracy: 0.8552 - val_loss: 0.3485 - val_accuracy: 0.8628\n",
      "Epoch 68/100\n",
      "235/235 [==============================] - 1s 2ms/step - loss: 0.3493 - accuracy: 0.8560 - val_loss: 0.3477 - val_accuracy: 0.8620\n",
      "Epoch 69/100\n",
      "235/235 [==============================] - 1s 2ms/step - loss: 0.3484 - accuracy: 0.8568 - val_loss: 0.3472 - val_accuracy: 0.8584\n",
      "Epoch 70/100\n",
      "235/235 [==============================] - 1s 2ms/step - loss: 0.3484 - accuracy: 0.8552 - val_loss: 0.3511 - val_accuracy: 0.8620\n",
      "Epoch 71/100\n",
      "235/235 [==============================] - 1s 2ms/step - loss: 0.3480 - accuracy: 0.8569 - val_loss: 0.3466 - val_accuracy: 0.8616\n",
      "Epoch 72/100\n",
      "235/235 [==============================] - 1s 2ms/step - loss: 0.3473 - accuracy: 0.8579 - val_loss: 0.3504 - val_accuracy: 0.8596\n",
      "Epoch 73/100\n",
      "235/235 [==============================] - 1s 2ms/step - loss: 0.3478 - accuracy: 0.8572 - val_loss: 0.3469 - val_accuracy: 0.8624\n",
      "Epoch 74/100\n",
      "235/235 [==============================] - 1s 2ms/step - loss: 0.3473 - accuracy: 0.8568 - val_loss: 0.3468 - val_accuracy: 0.8612\n",
      "Epoch 75/100\n",
      "235/235 [==============================] - 1s 2ms/step - loss: 0.3468 - accuracy: 0.8573 - val_loss: 0.3462 - val_accuracy: 0.8612\n",
      "Epoch 76/100\n",
      "235/235 [==============================] - 1s 2ms/step - loss: 0.3465 - accuracy: 0.8575 - val_loss: 0.3461 - val_accuracy: 0.8628\n",
      "Epoch 77/100\n",
      "235/235 [==============================] - 1s 2ms/step - loss: 0.3461 - accuracy: 0.8587 - val_loss: 0.3521 - val_accuracy: 0.8628\n",
      "Epoch 78/100\n",
      "235/235 [==============================] - 1s 2ms/step - loss: 0.3457 - accuracy: 0.8584 - val_loss: 0.3484 - val_accuracy: 0.8608\n",
      "Epoch 79/100\n",
      "235/235 [==============================] - 1s 3ms/step - loss: 0.3456 - accuracy: 0.8588 - val_loss: 0.3471 - val_accuracy: 0.8592\n",
      "Epoch 80/100\n",
      "235/235 [==============================] - 1s 3ms/step - loss: 0.3451 - accuracy: 0.8577 - val_loss: 0.3451 - val_accuracy: 0.8620\n",
      "Epoch 81/100\n",
      "235/235 [==============================] - 1s 2ms/step - loss: 0.3454 - accuracy: 0.8565 - val_loss: 0.3473 - val_accuracy: 0.8608\n",
      "Epoch 82/100\n",
      "235/235 [==============================] - 1s 2ms/step - loss: 0.3446 - accuracy: 0.8601 - val_loss: 0.3473 - val_accuracy: 0.8612\n",
      "Epoch 83/100\n",
      "235/235 [==============================] - 1s 3ms/step - loss: 0.3440 - accuracy: 0.8583 - val_loss: 0.3458 - val_accuracy: 0.8640\n",
      "Epoch 84/100\n",
      "235/235 [==============================] - 1s 2ms/step - loss: 0.3444 - accuracy: 0.8588 - val_loss: 0.3441 - val_accuracy: 0.8628\n",
      "Epoch 85/100\n",
      "235/235 [==============================] - 1s 2ms/step - loss: 0.3441 - accuracy: 0.8581 - val_loss: 0.3452 - val_accuracy: 0.8616\n",
      "Epoch 86/100\n",
      "235/235 [==============================] - 1s 2ms/step - loss: 0.3437 - accuracy: 0.8572 - val_loss: 0.3449 - val_accuracy: 0.8600\n",
      "Epoch 87/100\n",
      "235/235 [==============================] - 0s 2ms/step - loss: 0.3438 - accuracy: 0.8576 - val_loss: 0.3440 - val_accuracy: 0.8632\n",
      "Epoch 88/100\n",
      "235/235 [==============================] - 0s 1ms/step - loss: 0.3428 - accuracy: 0.8589 - val_loss: 0.3439 - val_accuracy: 0.8612\n",
      "Epoch 89/100\n",
      "235/235 [==============================] - 0s 2ms/step - loss: 0.3428 - accuracy: 0.8580 - val_loss: 0.3440 - val_accuracy: 0.8624\n",
      "Epoch 90/100\n",
      "235/235 [==============================] - 1s 3ms/step - loss: 0.3425 - accuracy: 0.8593 - val_loss: 0.3446 - val_accuracy: 0.8644\n",
      "Epoch 91/100\n",
      "235/235 [==============================] - 1s 2ms/step - loss: 0.3425 - accuracy: 0.8579 - val_loss: 0.3442 - val_accuracy: 0.8624\n",
      "Epoch 92/100\n",
      "235/235 [==============================] - 1s 3ms/step - loss: 0.3419 - accuracy: 0.8588 - val_loss: 0.3440 - val_accuracy: 0.8628\n",
      "Epoch 93/100\n",
      "235/235 [==============================] - 1s 2ms/step - loss: 0.3428 - accuracy: 0.8595 - val_loss: 0.3436 - val_accuracy: 0.8644\n",
      "Epoch 94/100\n",
      "235/235 [==============================] - 1s 2ms/step - loss: 0.3417 - accuracy: 0.8592 - val_loss: 0.3446 - val_accuracy: 0.8644\n",
      "Epoch 95/100\n",
      "235/235 [==============================] - 1s 2ms/step - loss: 0.3418 - accuracy: 0.8577 - val_loss: 0.3432 - val_accuracy: 0.8632\n",
      "Epoch 96/100\n",
      "235/235 [==============================] - 1s 2ms/step - loss: 0.3413 - accuracy: 0.8608 - val_loss: 0.3434 - val_accuracy: 0.8620\n",
      "Epoch 97/100\n",
      "235/235 [==============================] - 1s 2ms/step - loss: 0.3407 - accuracy: 0.8577 - val_loss: 0.3453 - val_accuracy: 0.8624\n",
      "Epoch 98/100\n",
      "235/235 [==============================] - 1s 3ms/step - loss: 0.3419 - accuracy: 0.8595 - val_loss: 0.3442 - val_accuracy: 0.8640\n",
      "Epoch 99/100\n",
      "235/235 [==============================] - 1s 2ms/step - loss: 0.3416 - accuracy: 0.8591 - val_loss: 0.3446 - val_accuracy: 0.8636\n",
      "Epoch 100/100\n",
      "235/235 [==============================] - 1s 2ms/step - loss: 0.3415 - accuracy: 0.8571 - val_loss: 0.3441 - val_accuracy: 0.8596\n"
     ]
    }
   ],
   "source": [
    "h = model.fit(x_train,y_train,batch_size=32, epochs=100, verbose=1,validation_data=(x_test,y_test))"
   ]
  },
  {
   "cell_type": "code",
   "execution_count": 65,
   "id": "4f083cd5",
   "metadata": {},
   "outputs": [
    {
     "data": {
      "text/html": [
       "<div>\n",
       "<style scoped>\n",
       "    .dataframe tbody tr th:only-of-type {\n",
       "        vertical-align: middle;\n",
       "    }\n",
       "\n",
       "    .dataframe tbody tr th {\n",
       "        vertical-align: top;\n",
       "    }\n",
       "\n",
       "    .dataframe thead th {\n",
       "        text-align: right;\n",
       "    }\n",
       "</style>\n",
       "<table border=\"1\" class=\"dataframe\">\n",
       "  <thead>\n",
       "    <tr style=\"text-align: right;\">\n",
       "      <th></th>\n",
       "      <th>loss</th>\n",
       "      <th>accuracy</th>\n",
       "      <th>val_loss</th>\n",
       "      <th>val_accuracy</th>\n",
       "      <th>Epochs</th>\n",
       "    </tr>\n",
       "  </thead>\n",
       "  <tbody>\n",
       "    <tr>\n",
       "      <th>95</th>\n",
       "      <td>0.341294</td>\n",
       "      <td>0.860800</td>\n",
       "      <td>0.343429</td>\n",
       "      <td>0.8620</td>\n",
       "      <td>95</td>\n",
       "    </tr>\n",
       "    <tr>\n",
       "      <th>96</th>\n",
       "      <td>0.340731</td>\n",
       "      <td>0.857733</td>\n",
       "      <td>0.345296</td>\n",
       "      <td>0.8624</td>\n",
       "      <td>96</td>\n",
       "    </tr>\n",
       "    <tr>\n",
       "      <th>97</th>\n",
       "      <td>0.341871</td>\n",
       "      <td>0.859467</td>\n",
       "      <td>0.344209</td>\n",
       "      <td>0.8640</td>\n",
       "      <td>97</td>\n",
       "    </tr>\n",
       "    <tr>\n",
       "      <th>98</th>\n",
       "      <td>0.341568</td>\n",
       "      <td>0.859067</td>\n",
       "      <td>0.344606</td>\n",
       "      <td>0.8636</td>\n",
       "      <td>98</td>\n",
       "    </tr>\n",
       "    <tr>\n",
       "      <th>99</th>\n",
       "      <td>0.341480</td>\n",
       "      <td>0.857067</td>\n",
       "      <td>0.344097</td>\n",
       "      <td>0.8596</td>\n",
       "      <td>99</td>\n",
       "    </tr>\n",
       "  </tbody>\n",
       "</table>\n",
       "</div>"
      ],
      "text/plain": [
       "        loss  accuracy  val_loss  val_accuracy  Epochs\n",
       "95  0.341294  0.860800  0.343429        0.8620      95\n",
       "96  0.340731  0.857733  0.345296        0.8624      96\n",
       "97  0.341871  0.859467  0.344209        0.8640      97\n",
       "98  0.341568  0.859067  0.344606        0.8636      98\n",
       "99  0.341480  0.857067  0.344097        0.8596      99"
      ]
     },
     "execution_count": 65,
     "metadata": {},
     "output_type": "execute_result"
    }
   ],
   "source": [
    "r = pd.DataFrame(h.history)\n",
    "r['Epochs'] = h.epoch\n",
    "r.tail()"
   ]
  },
  {
   "cell_type": "code",
   "execution_count": 66,
   "id": "4864e66f",
   "metadata": {},
   "outputs": [
    {
     "data": {
      "image/png": "[encoded data removed]",
      "text/plain": [
       "<Figure size 640x480 with 1 Axes>"
      ]
     },
     "metadata": {},
     "output_type": "display_data"
    }
   ],
   "source": [
    "plt.plot(r['Epochs'],r['loss'],label='Train Loss')\n",
    "plt.plot(r['Epochs'],r['val_loss'],label='Test Loss')\n",
    "plt.legend()\n",
    "plt.title('Loss vs Epochs')\n",
    "plt.xlabel('Epochs')\n",
    "plt.ylabel('Loss')\n",
    "plt.show()"
   ]
  },
  {
   "cell_type": "code",
   "execution_count": 67,
   "id": "af76df98",
   "metadata": {},
   "outputs": [
    {
     "data": {
      "image/png": "[encoded data removed]",
      "text/plain": [
       "<Figure size 640x480 with 1 Axes>"
      ]
     },
     "metadata": {},
     "output_type": "display_data"
    }
   ],
   "source": [
    "plt.plot(r['Epochs'],r['accuracy'],label='Train acc')\n",
    "plt.plot(r['Epochs'],r['val_accuracy'],label='Test acc')\n",
    "plt.legend()\n",
    "plt.title('Acc vs Epochs')\n",
    "plt.xlabel('Epochs')\n",
    "plt.ylabel('Acc')\n",
    "plt.show()"
   ]
  },
  {
   "cell_type": "code",
   "execution_count": 70,
   "id": "c931c0f9",
   "metadata": {},
   "outputs": [
    {
     "name": "stdout",
     "output_type": "stream",
     "text": [
      "79/79 [==============================] - 0s 1ms/step\n"
     ]
    },
    {
     "data": {
      "text/plain": [
       "array([[0.07481308],\n",
       "       [0.01930519],\n",
       "       [0.17133465],\n",
       "       [0.16834885],\n",
       "       [0.04810698]], dtype=float32)"
      ]
     },
     "execution_count": 70,
     "metadata": {},
     "output_type": "execute_result"
    }
   ],
   "source": [
    "# Generate predictions for test dataset\n",
    "y_pred = model.predict(x_test)\n",
    "y_pred[:5]"
   ]
  },
  {
   "cell_type": "code",
   "execution_count": 72,
   "id": "390ea8a0",
   "metadata": {},
   "outputs": [
    {
     "name": "stdout",
     "output_type": "stream",
     "text": [
      "[0, 0, 0, 0, 0, 0, 0, 0, 0, 1, 1, 1, 1, 0, 0, 0, 0, 0, 0, 0, 0, 0, 0, 0, 0, 0, 0, 0, 0, 0, 0, 0, 0, 0, 0, 1, 0, 0, 0, 0, 0, 0, 0, 0, 0, 0, 0, 0, 0, 0, 0, 0, 1, 0, 1, 0, 0, 0, 0, 0, 0, 0, 0, 0, 0, 0, 0, 0, 0, 0, 0, 0, 0, 0, 0, 0, 0, 0, 0, 0, 0, 0, 0, 0, 0, 1, 0, 1, 0, 0, 0, 1, 0, 0, 0, 0, 0, 0, 0, 0, 1, 1, 0, 0, 0, 0, 0, 0, 0, 0, 0, 1, 0, 0, 0, 0, 0, 0, 1, 1, 1, 0, 0, 0, 0, 0, 0, 0, 0, 1, 0, 0, 0, 0, 0, 0, 0, 0, 0, 0, 0, 0, 0, 0, 0, 0, 0, 1, 0, 0, 0, 0, 0, 0, 0, 0, 0, 0, 0, 1, 0, 0, 1, 1, 0, 0, 0, 0, 0, 0, 0, 0, 1, 0, 0, 0, 0, 0, 0, 0, 0, 0, 0, 1, 0, 0, 0, 0, 0, 0, 0, 0, 0, 0, 1, 1, 0, 0, 0, 0, 0, 0, 0, 0, 0, 0, 0, 0, 0, 0, 0, 0, 1, 1, 0, 0, 0, 0, 1, 0, 0, 0, 0, 0, 1, 1, 0, 0, 0, 0, 0, 1, 0, 0, 0, 0, 0, 0, 0, 0, 0, 0, 0, 0, 1, 0, 0, 0, 0, 1, 0, 0, 0, 1, 0, 0, 0, 0, 0, 0, 1, 0, 0, 1, 1, 0, 0, 0, 0, 0, 0, 0, 0, 0, 0, 1, 0, 0, 0, 0, 0, 1, 1, 0, 0, 0, 0, 0, 0, 0, 0, 0, 0, 0, 0, 0, 0, 0, 0, 1, 1, 0, 0, 0, 0, 0, 0, 0, 0, 0, 1, 0, 0, 0, 0, 0, 0, 0, 0, 0, 1, 0, 0, 0, 0, 0, 0, 1, 0, 0, 0, 0, 0, 0, 0, 0, 0, 0, 0, 1, 0, 0, 0, 0, 0, 0, 0, 0, 0, 0, 0, 0, 0, 0, 0, 0, 0, 0, 1, 0, 0, 0, 0, 1, 0, 0, 0, 0, 1, 0, 0, 0, 0, 0, 0, 0, 0, 0, 0, 0, 0, 0, 0, 0, 1, 0, 0, 0, 0, 0, 0, 0, 1, 1, 0, 0, 0, 0, 0, 0, 1, 0, 0, 0, 0, 0, 0, 1, 0, 0, 0, 0, 0, 0, 0, 0, 0, 0, 0, 0, 0, 0, 0, 0, 0, 0, 1, 0, 0, 1, 0, 0, 0, 0, 0, 0, 0, 0, 0, 1, 0, 0, 0, 0, 0, 0, 0, 0, 0, 0, 0, 0, 0, 0, 0, 0, 0, 0, 0, 0, 0, 0, 0, 0, 0, 0, 0, 0, 0, 0, 0, 0, 0, 0, 0, 0, 0, 1, 0, 0, 1, 0, 0, 0, 1, 0, 0, 0, 0, 0, 0, 0, 0, 0, 0, 0, 0, 0, 0, 1, 0, 0, 0, 0, 0, 0, 1, 0, 0, 0, 0, 0, 0, 0, 0, 0, 0, 0, 0, 0, 0, 0, 0, 0, 0, 0, 1, 0, 0, 0, 0, 0, 0, 0, 1, 1, 0, 0, 0, 0, 0, 0, 0, 1, 1, 0, 0, 0, 0, 0, 0, 0, 1, 0, 0, 0, 0, 0, 0, 0, 0, 1, 0, 0, 0, 0, 1, 0, 1, 0, 0, 0, 1, 0, 0, 0, 0, 0, 0, 0, 0, 0, 0, 0, 0, 0, 0, 0, 1, 0, 0, 0, 0, 0, 0, 1, 0, 0, 0, 1, 0, 0, 0, 0, 0, 0, 0, 1, 0, 0, 0, 0, 0, 0, 0, 0, 0, 1, 0, 0, 0, 0, 0, 0, 0, 1, 0, 0, 0, 0, 0, 0, 0, 0, 0, 0, 0, 0, 1, 1, 0, 0, 0, 0, 0, 0, 0, 0, 0, 0, 1, 0, 0, 0, 0, 0, 0, 0, 0, 1, 0, 0, 0, 0, 1, 0, 0, 0, 0, 1, 0, 0, 0, 0, 0, 0, 0, 0, 0, 1, 0, 0, 0, 0, 0, 0, 0, 0, 0, 0, 0, 0, 0, 1, 0, 1, 0, 0, 1, 0, 0, 0, 0, 0, 0, 0, 0, 0, 0, 0, 0, 0, 0, 0, 0, 0, 0, 0, 0, 1, 1, 0, 0, 0, 0, 0, 0, 0, 1, 0, 1, 1, 0, 0, 0, 0, 0, 0, 0, 0, 0, 0, 0, 0, 0, 1, 0, 0, 0, 0, 0, 0, 0, 0, 1, 0, 0, 0, 0, 0, 0, 0, 0, 0, 0, 0, 0, 1, 0, 0, 0, 0, 0, 0, 0, 1, 1, 0, 0, 0, 0, 0, 0, 0, 0, 0, 1, 0, 0, 0, 1, 0, 0, 0, 1, 1, 0, 0, 1, 0, 0, 0, 0, 0, 0, 1, 0, 0, 0, 0, 1, 0, 0, 0, 0, 0, 0, 0, 0, 0, 0, 0, 0, 0, 1, 0, 0, 1, 0, 0, 0, 0, 0, 0, 0, 0, 0, 0, 0, 0, 0, 0, 0, 0, 1, 0, 0, 0, 0, 0, 0, 0, 0, 0, 0, 0, 0, 0, 0, 0, 0, 0, 0, 0, 1, 0, 1, 0, 0, 0, 0, 0, 0, 0, 0, 0, 0, 0, 0, 0, 0, 0, 1, 0, 0, 0, 0, 0, 0, 1, 0, 0, 0, 0, 0, 0, 0, 0, 0, 0, 0, 0, 0, 0, 0, 0, 0, 1, 0, 1, 0, 0, 0, 1, 1, 0, 0, 1, 0, 0, 1, 1, 0, 0, 0, 0, 1, 0, 0, 1, 0, 1, 0, 0, 0, 0, 0, 0, 0, 0, 0, 1, 0, 0, 0, 1, 0, 0, 1, 0, 0, 0, 0, 0, 0, 0, 0, 0, 1, 0, 0, 0, 0, 1, 0, 0, 0, 0, 1, 1, 0, 0, 0, 0, 0, 0, 1, 0, 0, 0, 0, 0, 0, 0, 0, 0, 0, 0, 0, 0, 0, 0, 0, 0, 0, 0, 0, 0, 0, 1, 0, 0, 0, 0, 1, 0, 0, 1, 0, 0, 0, 0, 0, 0, 0, 0, 1, 0, 0, 0, 0, 1, 0, 0, 1, 0, 0, 0, 0, 0, 0, 0, 0, 0, 0, 0, 0, 0, 0, 0, 1, 0, 0, 0, 0, 0, 0, 0, 0, 0, 0, 0, 0, 0, 1, 1, 0, 1, 0, 0, 0, 0, 0, 0, 0, 0, 0, 1, 0, 0, 0, 0, 0, 0, 1, 0, 0, 1, 0, 1, 0, 0, 0, 0, 0, 0, 0, 0, 1, 0, 0, 0, 0, 0, 0, 0, 0, 0, 0, 0, 0, 0, 0, 0, 0, 0, 0, 0, 0, 1, 0, 0, 1, 0, 0, 0, 0, 0, 0, 0, 0, 0, 0, 0, 0, 0, 0, 0, 0, 0, 0, 0, 0, 0, 0, 0, 0, 0, 1, 0, 0, 0, 0, 0, 0, 0, 1, 0, 0, 1, 0, 0, 0, 0, 0, 0, 0, 0, 0, 0, 0, 0, 0, 0, 1, 0, 0, 0, 0, 0, 0, 0, 0, 0, 0, 0, 0, 0, 1, 0, 0, 0, 0, 0, 0, 0, 0, 1, 0, 0, 1, 0, 1, 0, 1, 0, 0, 0, 0, 0, 0, 0, 0, 0, 0, 1, 0, 0, 0, 0, 0, 0, 0, 0, 0, 0, 0, 0, 1, 0, 0, 0, 1, 0, 0, 0, 0, 0, 0, 0, 0, 0, 1, 0, 0, 0, 0, 0, 0, 0, 0, 0, 0, 0, 1, 0, 0, 0, 0, 0, 1, 0, 0, 0, 0, 0, 0, 1, 0, 0, 0, 0, 0, 0, 0, 0, 0, 0, 0, 0, 1, 0, 0, 0, 0, 0, 1, 0, 0, 0, 0, 0, 0, 0, 0, 0, 0, 0, 0, 0, 0, 0, 0, 0, 0, 1, 0, 1, 0, 0, 0, 0, 0, 0, 0, 0, 0, 0, 0, 0, 0, 0, 0, 1, 0, 0, 0, 0, 0, 0, 0, 0, 0, 0, 0, 1, 0, 1, 0, 0, 1, 1, 0, 0, 0, 0, 0, 0, 0, 0, 0, 0, 0, 1, 0, 0, 0, 0, 0, 0, 0, 0, 0, 0, 0, 0, 0, 0, 0, 1, 0, 0, 0, 0, 0, 0, 0, 0, 0, 0, 0, 0, 0, 0, 1, 1, 0, 0, 0, 1, 0, 0, 0, 0, 0, 0, 0, 1, 0, 0, 0, 1, 1, 0, 1, 0, 0, 0, 0, 0, 0, 0, 0, 0, 0, 0, 0, 0, 0, 0, 0, 0, 0, 0, 0, 0, 1, 0, 0, 0, 0, 0, 1, 0, 0, 0, 0, 1, 0, 1, 0, 0, 1, 0, 0, 0, 0, 0, 0, 0, 0, 0, 0, 1, 1, 0, 0, 0, 1, 0, 1, 0, 0, 0, 1, 0, 0, 0, 0, 0, 0, 0, 0, 1, 0, 0, 0, 1, 0, 0, 1, 0, 0, 1, 0, 0, 0, 1, 0, 0, 0, 0, 0, 0, 0, 0, 0, 0, 0, 0, 0, 1, 0, 1, 0, 0, 0, 0, 1, 0, 0, 1, 0, 0, 0, 0, 0, 0, 0, 0, 0, 0, 0, 0, 0, 0, 0, 0, 0, 0, 1, 0, 0, 0, 0, 0, 0, 1, 0, 0, 1, 0, 0, 0, 0, 1, 0, 0, 0, 0, 1, 0, 0, 0, 0, 0, 0, 0, 0, 1, 1, 0, 0, 0, 1, 0, 0, 1, 0, 0, 0, 0, 0, 0, 0, 0, 1, 0, 0, 0, 0, 0, 0, 0, 0, 1, 0, 0, 0, 0, 1, 0, 0, 0, 0, 0, 0, 1, 0, 1, 0, 1, 0, 0, 0, 0, 0, 0, 0, 0, 0, 0, 0, 0, 1, 0, 0, 1, 0, 0, 0, 0, 0, 0, 1, 0, 0, 1, 1, 0, 0, 0, 0, 0, 0, 0, 0, 1, 0, 0, 1, 0, 0, 0, 0, 0, 0, 0, 1, 0, 0, 0, 0, 0, 0, 0, 0, 1, 0, 0, 0, 0, 0, 1, 0, 0, 0, 0, 0, 0, 0, 0, 0, 0, 0, 0, 0, 0, 0, 0, 0, 1, 0, 0, 0, 0, 0, 0, 0, 0, 0, 0, 0, 1, 0, 0, 0, 0, 0, 0, 0, 0, 0, 0, 0, 0, 1, 1, 0, 0, 0, 0, 0, 0, 0, 0, 0, 0, 1, 0, 0, 0, 0, 0, 0, 0, 0, 1, 0, 0, 0, 1, 0, 0, 0, 0, 0, 0, 1, 0, 1, 1, 1, 1, 0, 0, 1, 0, 0, 0, 0, 0, 0, 1, 0, 0, 0, 0, 0, 0, 0, 0, 0, 0, 0, 0, 0, 0, 0, 0, 0, 0, 0, 0, 1, 0, 0, 0, 0, 0, 0, 0, 0, 0, 1, 0, 0, 0, 1, 0, 0, 0, 0, 1, 0, 0, 0, 0, 0, 1, 1, 0, 0, 1, 0, 0, 0, 0, 0, 0, 0, 0, 0, 0, 0, 0, 1, 0, 0, 1, 0, 0, 0, 0, 0, 1, 1, 0, 0, 0, 0, 0, 0, 0, 0, 1, 0, 0, 0, 0, 0, 0, 0, 0, 0, 0, 0, 0, 0, 0, 0, 0, 0, 0, 0, 0, 0, 0, 1, 0, 0, 0, 0, 1, 0, 0, 0, 0, 0, 0, 1, 1, 0, 0, 1, 0, 0, 0, 0, 0, 0, 1, 0, 0, 0, 0, 0, 0, 0, 0, 0, 1, 0, 0, 0, 0, 0, 1, 0, 0, 0, 0, 0, 0, 0, 1, 0, 0, 0, 0, 0, 0, 0, 0, 0, 0, 0, 0, 0, 1, 0, 0, 1, 0, 0, 0, 1, 0, 0, 0, 1, 0, 0, 0, 1, 0, 0, 0, 0, 0, 0, 0, 0, 0, 0, 1, 0, 0, 0, 1, 0, 0, 0, 0, 0, 0, 1, 0, 0, 0, 0, 0, 1, 0, 0, 0, 0, 0, 0, 1, 0, 0, 0, 1, 0, 0, 0, 0, 1, 0, 0, 0, 0, 0, 0, 0, 0, 0, 0, 0, 0, 0, 0, 0, 0, 0, 0, 0, 0, 0, 0, 0, 0, 1, 0, 1, 0, 1, 0, 0, 0, 0, 0, 0, 1, 0, 0, 0, 0, 0, 0, 0, 0, 0, 0, 0, 0, 0, 1, 0, 0, 0, 0, 0, 0, 0, 0, 0, 0, 0, 0, 1, 0, 0, 0, 0, 0, 0, 1, 0, 0, 0, 0, 0, 1, 0, 0, 1, 0, 0, 0, 0, 0, 0, 0, 0, 0, 1, 0, 0, 0, 0, 0, 0, 1, 0, 0, 0, 0, 0, 0, 0, 0, 1, 1, 1, 0, 0, 1, 0, 1, 0, 0, 1, 0, 0, 0, 0, 0, 1, 0, 0, 0, 0, 0, 0, 1, 0, 0, 1, 1, 0, 0, 0, 1, 0, 0, 0, 1, 0, 1, 0, 0, 0, 0, 1, 0, 0, 0, 1, 1, 0, 0, 0, 0, 1, 0, 0, 0, 0, 0, 0, 0, 0, 0, 1, 0, 0, 0, 0, 0, 0, 0, 0, 0, 0, 0, 0, 0, 0, 0, 1, 0, 0, 0, 0, 0, 0, 1, 0, 0, 0, 0, 0, 0, 0, 0, 0, 0, 0, 0, 0, 0, 0, 0, 0, 0, 0, 0, 1, 0, 0, 0, 0, 0, 0, 0, 0, 0, 0, 0, 0, 0, 0, 0, 0, 0, 0, 0, 0, 0, 1, 0, 0, 0, 0, 0, 0, 0, 0, 0, 0, 0, 0, 0, 0, 0, 1, 0, 0, 0, 0, 1, 0, 0, 0, 1, 0, 0, 0, 0, 0, 0, 0, 0, 1, 0, 0, 0, 0, 0, 0, 0, 0, 0, 0, 0, 0, 1, 0, 0, 0, 0, 1, 0, 0, 1, 0, 0, 0, 0, 0, 0, 0, 0, 0, 1, 0, 1, 0, 0, 0, 1, 0, 0, 1, 0, 0, 1, 0, 0, 0, 0, 0, 0, 0, 0, 0, 0, 0, 0, 0, 0, 0, 0, 1, 0, 0, 0, 0, 0, 0, 0, 0, 0, 0, 0, 0, 0, 0, 0, 0, 0, 0, 0, 0, 0, 0, 0, 0, 0, 0, 0, 0, 1, 1, 0, 0, 0, 0, 0, 0, 1, 0, 0, 0, 0, 0, 0, 0, 1, 0, 0, 0, 0, 0, 0, 0, 0, 0, 1, 0, 1, 0, 0, 0, 0, 0, 0, 1, 1, 0, 0, 1, 1, 0, 0, 0, 0, 0, 0, 0, 0, 0, 1, 0, 0, 0, 0, 0, 0, 0, 0, 0, 0, 0, 0, 0, 0, 0, 0, 0, 0, 0, 0, 0, 0, 0, 0, 0, 0, 0, 0, 1, 0, 1, 0, 0, 0, 0, 0, 0, 0, 0, 0, 0, 0, 0, 0, 0, 0, 1, 0, 0, 0, 0, 0, 0, 0, 0, 0, 0, 0, 0, 0, 0, 1, 0, 1, 1, 0, 0, 0, 0, 0, 0, 0, 0, 0, 1, 0, 0, 0, 0, 0, 0, 0, 1, 0, 0, 0, 0, 0, 0, 0, 0, 0, 0, 0, 0, 0, 0, 0, 0, 0, 0, 0, 0, 0, 0, 0, 0, 0, 0, 1, 0, 0, 1, 0, 0, 0, 0, 0, 0, 0, 0, 1, 0, 0, 0]\n"
     ]
    }
   ],
   "source": [
    "y_pred_model = [1 if i>0.5 else 0 for i in y_pred]\n",
    "print(y_pred_model)"
   ]
  },
  {
   "cell_type": "code",
   "execution_count": 75,
   "id": "b1331c72",
   "metadata": {},
   "outputs": [
    {
     "name": "stdout",
     "output_type": "stream",
     "text": [
      "[[1906   97]\n",
      " [ 254  243]]\n",
      "              precision    recall  f1-score   support\n",
      "\n",
      "           0       0.88      0.95      0.92      2003\n",
      "           1       0.71      0.49      0.58       497\n",
      "\n",
      "    accuracy                           0.86      2500\n",
      "   macro avg       0.80      0.72      0.75      2500\n",
      "weighted avg       0.85      0.86      0.85      2500\n",
      "\n"
     ]
    }
   ],
   "source": [
    "# Compute confusion matrix\n",
    "print(confusion_matrix(y_test,y_pred_model))\n",
    "\n",
    "# Compute classification report\n",
    "print(classification_report(y_test,y_pred_model))"
   ]
  },
  {
   "cell_type": "code",
   "execution_count": 77,
   "id": "955353c1",
   "metadata": {},
   "outputs": [
    {
     "name": "stdout",
     "output_type": "stream",
     "text": [
      "ANN Model Accuracy: 0.8596\n"
     ]
    }
   ],
   "source": [
    "# Calculate accuracy\n",
    "accuracy = (confusion_matrix(y_test,y_pred_model)[0, 0] + confusion_matrix(y_test,y_pred_model)[1, 1]) / confusion_matrix(y_test,y_pred_model).sum()\n",
    "print(\"ANN Model Accuracy:\", accuracy)"
   ]
  },
  {
   "cell_type": "code",
   "execution_count": null,
   "id": "112660a3",
   "metadata": {},
   "outputs": [],
   "source": []
  }
 ],
 "metadata": {
  "kernelspec": {
   "display_name": "Python 3 (ipykernel)",
   "language": "python",
   "name": "python3"
  },
  "language_info": {
   "codemirror_mode": {
    "name": "ipython",
    "version": 3
   },
   "file_extension": ".py",
   "mimetype": "text/x-python",
   "name": "python",
   "nbconvert_exporter": "python",
   "pygments_lexer": "ipython3",
   "version": "3.10.9"
  }
 },
 "nbformat": 4,
 "nbformat_minor": 5
}
